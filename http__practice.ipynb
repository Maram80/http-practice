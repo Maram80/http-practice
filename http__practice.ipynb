{
  "nbformat": 4,
  "nbformat_minor": 0,
  "metadata": {
    "colab": {
      "provenance": [],
      "authorship_tag": "ABX9TyN9yCq2tPDIahdkV6P7gpuU",
      "include_colab_link": true
    },
    "kernelspec": {
      "name": "python3",
      "display_name": "Python 3"
    },
    "language_info": {
      "name": "python"
    }
  },
  "cells": [
    {
      "cell_type": "markdown",
      "metadata": {
        "id": "view-in-github",
        "colab_type": "text"
      },
      "source": [
        "<a href=\"https://colab.research.google.com/github/Maram80/http-practice/blob/master/http__practice.ipynb\" target=\"_parent\"><img src=\"https://colab.research.google.com/assets/colab-badge.svg\" alt=\"Open In Colab\"/></a>"
      ]
    },
    {
      "cell_type": "code",
      "execution_count": 55,
      "metadata": {
        "id": "0swMji9oJzZb"
      },
      "outputs": [],
      "source": [
        "import requests"
      ]
    },
    {
      "cell_type": "code",
      "source": [
        "# رفع ملف القيت هيب\n",
        "!git clone https://github.com/Maram80/http-practice.git"
      ],
      "metadata": {
        "colab": {
          "base_uri": "https://localhost:8080/"
        },
        "id": "RD0IC6qwJ4FT",
        "outputId": "c35c90c8-c3f4-435d-a63d-691ca3c2406e"
      },
      "execution_count": 56,
      "outputs": [
        {
          "output_type": "stream",
          "name": "stdout",
          "text": [
            "Cloning into 'http-practice'...\n",
            "remote: Enumerating objects: 44, done.\u001b[K\n",
            "remote: Total 44 (delta 0), reused 0 (delta 0), pack-reused 44 (from 1)\u001b[K\n",
            "Receiving objects: 100% (44/44), 12.05 KiB | 12.05 MiB/s, done.\n",
            "Resolving deltas: 100% (17/17), done.\n"
          ]
        }
      ]
    },
    {
      "cell_type": "code",
      "source": [
        "%cd http-practice\n",
        "\n"
      ],
      "metadata": {
        "colab": {
          "base_uri": "https://localhost:8080/"
        },
        "id": "XNt_JajEN0z6",
        "outputId": "fb7a2ede-20c8-4c32-f235-40d0f5811876"
      },
      "execution_count": 57,
      "outputs": [
        {
          "output_type": "stream",
          "name": "stdout",
          "text": [
            "/content/http-practice/http-practice/http-practice\n"
          ]
        }
      ]
    },
    {
      "cell_type": "code",
      "source": [
        "#Perform a simple GET request"
      ],
      "metadata": {
        "id": "eSPEnxP-PNt-"
      },
      "execution_count": 58,
      "outputs": []
    },
    {
      "cell_type": "code",
      "source": [
        "request = requests.get('https://httpbin.org/get')"
      ],
      "metadata": {
        "id": "RxV360TaN2bu"
      },
      "execution_count": 59,
      "outputs": []
    },
    {
      "cell_type": "code",
      "source": [
        "!pip install -r requirements.txt\n"
      ],
      "metadata": {
        "colab": {
          "base_uri": "https://localhost:8080/"
        },
        "id": "lIn3lV8vN2zw",
        "outputId": "abd43521-8859-400d-bdf6-ef225a04b19e"
      },
      "execution_count": 60,
      "outputs": [
        {
          "output_type": "stream",
          "name": "stdout",
          "text": [
            "Requirement already satisfied: pytest==3.3.2 in /usr/local/lib/python3.10/dist-packages (from -r requirements.txt (line 1)) (3.3.2)\n",
            "Requirement already satisfied: requests==2.20.0 in /usr/local/lib/python3.10/dist-packages (from -r requirements.txt (line 2)) (2.20.0)\n",
            "Requirement already satisfied: py>=1.5.0 in /usr/local/lib/python3.10/dist-packages (from pytest==3.3.2->-r requirements.txt (line 1)) (1.11.0)\n",
            "Requirement already satisfied: six>=1.10.0 in /usr/local/lib/python3.10/dist-packages (from pytest==3.3.2->-r requirements.txt (line 1)) (1.16.0)\n",
            "Requirement already satisfied: setuptools in /usr/local/lib/python3.10/dist-packages (from pytest==3.3.2->-r requirements.txt (line 1)) (71.0.4)\n",
            "Requirement already satisfied: attrs>=17.2.0 in /usr/local/lib/python3.10/dist-packages (from pytest==3.3.2->-r requirements.txt (line 1)) (24.2.0)\n",
            "Requirement already satisfied: pluggy<0.7,>=0.5 in /usr/local/lib/python3.10/dist-packages (from pytest==3.3.2->-r requirements.txt (line 1)) (0.6.0)\n",
            "Requirement already satisfied: chardet<3.1.0,>=3.0.2 in /usr/local/lib/python3.10/dist-packages (from requests==2.20.0->-r requirements.txt (line 2)) (3.0.4)\n",
            "Requirement already satisfied: idna<2.8,>=2.5 in /usr/local/lib/python3.10/dist-packages (from requests==2.20.0->-r requirements.txt (line 2)) (2.7)\n",
            "Requirement already satisfied: urllib3<1.25,>=1.21.1 in /usr/local/lib/python3.10/dist-packages (from requests==2.20.0->-r requirements.txt (line 2)) (1.24.3)\n",
            "Requirement already satisfied: certifi>=2017.4.17 in /usr/local/lib/python3.10/dist-packages (from requests==2.20.0->-r requirements.txt (line 2)) (2024.8.30)\n"
          ]
        }
      ]
    },
    {
      "cell_type": "code",
      "source": [
        "print(\"Method:\", request.request.method)\n",
        "print(\"Status Code:\", request.status_code)\n",
        "print(\"Headers:\", request.headers)\n",
        "print(\"Content:\", request.text)"
      ],
      "metadata": {
        "colab": {
          "base_uri": "https://localhost:8080/"
        },
        "id": "EZhTb0eoN2Tc",
        "outputId": "6e904776-d2d7-4de0-c201-527dffbff4d1"
      },
      "execution_count": 61,
      "outputs": [
        {
          "output_type": "stream",
          "name": "stdout",
          "text": [
            "Method: GET\n",
            "Status Code: 200\n",
            "Headers: {'Date': 'Fri, 20 Sep 2024 21:41:54 GMT', 'Content-Type': 'application/json', 'Content-Length': '307', 'Connection': 'keep-alive', 'Server': 'gunicorn/19.9.0', 'Access-Control-Allow-Origin': '*', 'Access-Control-Allow-Credentials': 'true'}\n",
            "Content: {\n",
            "  \"args\": {}, \n",
            "  \"headers\": {\n",
            "    \"Accept\": \"*/*\", \n",
            "    \"Accept-Encoding\": \"gzip, deflate\", \n",
            "    \"Host\": \"httpbin.org\", \n",
            "    \"User-Agent\": \"python-requests/2.32.3\", \n",
            "    \"X-Amzn-Trace-Id\": \"Root=1-66edec22-70282f7f3b8a638d314c03c8\"\n",
            "  }, \n",
            "  \"origin\": \"35.229.248.47\", \n",
            "  \"url\": \"https://httpbin.org/get\"\n",
            "}\n",
            "\n"
          ]
        }
      ]
    },
    {
      "cell_type": "code",
      "source": [
        "#Perform a GET request with parameters"
      ],
      "metadata": {
        "id": "AVzKltI2R2IW"
      },
      "execution_count": 62,
      "outputs": []
    },
    {
      "cell_type": "code",
      "source": [
        "requ = requests.get('https://httpbin.org/get')\n",
        "requ.json()"
      ],
      "metadata": {
        "colab": {
          "base_uri": "https://localhost:8080/"
        },
        "id": "-nevwi2IR14r",
        "outputId": "bb45d7b8-3fc7-4c52-e069-d391dcee992b"
      },
      "execution_count": 63,
      "outputs": [
        {
          "output_type": "execute_result",
          "data": {
            "text/plain": [
              "{'args': {},\n",
              " 'headers': {'Accept': '*/*',\n",
              "  'Accept-Encoding': 'gzip, deflate',\n",
              "  'Host': 'httpbin.org',\n",
              "  'User-Agent': 'python-requests/2.32.3',\n",
              "  'X-Amzn-Trace-Id': 'Root=1-66edec26-3e753bdf7feeff2e3311f04a'},\n",
              " 'origin': '35.229.248.47',\n",
              " 'url': 'https://httpbin.org/get'}"
            ]
          },
          "metadata": {},
          "execution_count": 63
        }
      ]
    },
    {
      "cell_type": "code",
      "source": [
        "params={\n",
        "    'q': 'python language'\n",
        "}\n"
      ],
      "metadata": {
        "id": "AHoxaC-gR1rb"
      },
      "execution_count": 64,
      "outputs": []
    },
    {
      "cell_type": "code",
      "source": [
        "requ= requests.get('https://httpbin.org/get',params=params)"
      ],
      "metadata": {
        "id": "v5_8INujR1Ri"
      },
      "execution_count": 65,
      "outputs": []
    },
    {
      "cell_type": "code",
      "source": [
        "#Perform a POST request"
      ],
      "metadata": {
        "id": "aEnRJjeGThw0"
      },
      "execution_count": 66,
      "outputs": []
    },
    {
      "cell_type": "code",
      "source": [
        "data = {\n",
        "    'name': 'Maram',\n",
        "    'age': 22\n",
        "}\n"
      ],
      "metadata": {
        "id": "tcfVcAShUY_L"
      },
      "execution_count": 67,
      "outputs": []
    },
    {
      "cell_type": "code",
      "source": [
        "requ=requests.post( 'https://httpbin.org/get',json=data)"
      ],
      "metadata": {
        "id": "1BI1b-neUY7_"
      },
      "execution_count": 68,
      "outputs": []
    },
    {
      "cell_type": "code",
      "source": [
        "print(\"Method:\", requ.request.method)\n",
        "print(\"Status Code:\", requ.status_code)\n",
        "print(\"Headers:\", requ.headers)\n",
        "print(\"Content:\", requ.text)"
      ],
      "metadata": {
        "colab": {
          "base_uri": "https://localhost:8080/"
        },
        "id": "gFj4fd1nUY5t",
        "outputId": "a25fcaea-726f-4c6c-d732-6cfa94263b51"
      },
      "execution_count": 69,
      "outputs": [
        {
          "output_type": "stream",
          "name": "stdout",
          "text": [
            "Method: POST\n",
            "Status Code: 405\n",
            "Headers: {'Date': 'Fri, 20 Sep 2024 21:41:59 GMT', 'Content-Type': 'text/html', 'Content-Length': '178', 'Connection': 'keep-alive', 'Server': 'gunicorn/19.9.0', 'Allow': 'OPTIONS, HEAD, GET', 'Access-Control-Allow-Origin': '*', 'Access-Control-Allow-Credentials': 'true'}\n",
            "Content: <!DOCTYPE HTML PUBLIC \"-//W3C//DTD HTML 3.2 Final//EN\">\n",
            "<title>405 Method Not Allowed</title>\n",
            "<h1>Method Not Allowed</h1>\n",
            "<p>The method is not allowed for the requested URL.</p>\n",
            "\n"
          ]
        }
      ]
    },
    {
      "cell_type": "code",
      "source": [
        "##Perform a PUT request"
      ],
      "metadata": {
        "id": "2LJp_PZQUY0K"
      },
      "execution_count": 70,
      "outputs": []
    },
    {
      "cell_type": "code",
      "source": [
        "data = {'name': 'Jane Doe', 'age': 25}\n",
        "\n",
        "requ= requests.put( 'https://httpbin.org/put',json=data)\n",
        "# طباعة النتائج\n",
        "print(\"PUT Request\")\n",
        "print(\"Method:\", requ.request.method)\n",
        "print(\"Status Code:\", requ.status_code)\n",
        "print(\"Content:\", requ.json())"
      ],
      "metadata": {
        "colab": {
          "base_uri": "https://localhost:8080/"
        },
        "id": "tGQvMrp3WLwO",
        "outputId": "9be8fea3-0d54-497f-8054-939c5fe42a8b"
      },
      "execution_count": 71,
      "outputs": [
        {
          "output_type": "stream",
          "name": "stdout",
          "text": [
            "PUT Request\n",
            "Method: PUT\n",
            "Status Code: 200\n",
            "Content: {'args': {}, 'data': '{\"name\": \"Jane Doe\", \"age\": 25}', 'files': {}, 'form': {}, 'headers': {'Accept': '*/*', 'Accept-Encoding': 'gzip, deflate', 'Content-Length': '31', 'Content-Type': 'application/json', 'Host': 'httpbin.org', 'User-Agent': 'python-requests/2.32.3', 'X-Amzn-Trace-Id': 'Root=1-66edec28-38f73ded121ab2e75c8a39dc'}, 'json': {'age': 25, 'name': 'Jane Doe'}, 'origin': '35.229.248.47', 'url': 'https://httpbin.org/put'}\n"
          ]
        }
      ]
    },
    {
      "cell_type": "code",
      "source": [
        "##Perform a PATCH request"
      ],
      "metadata": {
        "id": "QFp_2OERWLsu"
      },
      "execution_count": 72,
      "outputs": []
    },
    {
      "cell_type": "code",
      "source": [
        "data = {'name': 'Jane Doe Updated'}\n",
        "requ = requests.patch('https://httpbin.org/patch', json=data)\n",
        "\n",
        "# طباعة النتائج\n",
        "print(\"PATCH Request\")\n",
        "print(\"Method:\", requ.request.method)\n",
        "print(\"Status Code:\", requ.status_code)\n",
        "print(\"Content:\", requ.json())\n"
      ],
      "metadata": {
        "colab": {
          "base_uri": "https://localhost:8080/"
        },
        "id": "l_dBOXJ_WLp9",
        "outputId": "3a4a07ba-5f3d-41d1-ff59-fa84faf8fe15"
      },
      "execution_count": 73,
      "outputs": [
        {
          "output_type": "stream",
          "name": "stdout",
          "text": [
            "PATCH Request\n",
            "Method: PATCH\n",
            "Status Code: 200\n",
            "Content: {'args': {}, 'data': '{\"name\": \"Jane Doe Updated\"}', 'files': {}, 'form': {}, 'headers': {'Accept': '*/*', 'Accept-Encoding': 'gzip, deflate', 'Content-Length': '28', 'Content-Type': 'application/json', 'Host': 'httpbin.org', 'User-Agent': 'python-requests/2.32.3', 'X-Amzn-Trace-Id': 'Root=1-66edec29-1c0c4268027cb1492e867a50'}, 'json': {'name': 'Jane Doe Updated'}, 'origin': '35.229.248.47', 'url': 'https://httpbin.org/patch'}\n"
          ]
        }
      ]
    },
    {
      "cell_type": "code",
      "source": [
        "##Perform a DELETE request"
      ],
      "metadata": {
        "id": "CfExI9ZmWLnY"
      },
      "execution_count": 74,
      "outputs": []
    },
    {
      "cell_type": "code",
      "source": [
        "requ = requests.delete('https://httpbin.org/delete')\n",
        "\n",
        "# طباعة النتائج\n",
        "print(\"DELETE Request\")\n",
        "print(\"Method:\", requ.request.method)\n",
        "print(\"Status Code:\", requ.status_code)\n",
        "print(\"Content:\", requ.json())\n"
      ],
      "metadata": {
        "colab": {
          "base_uri": "https://localhost:8080/"
        },
        "id": "mCyBLRbGWLkr",
        "outputId": "e7cf6b81-4819-446e-e116-2ec8c322dbbd"
      },
      "execution_count": 75,
      "outputs": [
        {
          "output_type": "stream",
          "name": "stdout",
          "text": [
            "DELETE Request\n",
            "Method: DELETE\n",
            "Status Code: 200\n",
            "Content: {'args': {}, 'data': '', 'files': {}, 'form': {}, 'headers': {'Accept': '*/*', 'Accept-Encoding': 'gzip, deflate', 'Content-Length': '0', 'Host': 'httpbin.org', 'User-Agent': 'python-requests/2.32.3', 'X-Amzn-Trace-Id': 'Root=1-66edec2a-79588a30757713ee0982e159'}, 'json': None, 'origin': '35.229.248.47', 'url': 'https://httpbin.org/delete'}\n"
          ]
        }
      ]
    },
    {
      "cell_type": "code",
      "source": [
        " ##Inspect headers during a redirect request"
      ],
      "metadata": {
        "id": "XWqL5uLfWLhO"
      },
      "execution_count": 76,
      "outputs": []
    },
    {
      "cell_type": "code",
      "source": [
        "requ = requests.get('https://httpbin.org/redirect/3', allow_redirects=True)\n",
        "\n",
        "# طباعة النتائج\n",
        "print(\"Redirect Request\")\n",
        "print(\"Final Status Code:\", requ.status_code)\n",
        "print(\"Final URL:\", requ.url)\n",
        "print(\"Location Header:\", requ.history[-1].headers['Location'])\n"
      ],
      "metadata": {
        "colab": {
          "base_uri": "https://localhost:8080/"
        },
        "id": "9jSRO7iGWLYw",
        "outputId": "611c7276-f323-4531-9d7c-25347c8f998e"
      },
      "execution_count": 77,
      "outputs": [
        {
          "output_type": "stream",
          "name": "stdout",
          "text": [
            "Redirect Request\n",
            "Final Status Code: 200\n",
            "Final URL: https://httpbin.org/get\n",
            "Location Header: /get\n"
          ]
        }
      ]
    },
    {
      "cell_type": "code",
      "source": [],
      "metadata": {
        "id": "DmOrEenkWLLE"
      },
      "execution_count": 77,
      "outputs": []
    },
    {
      "cell_type": "code",
      "source": [],
      "metadata": {
        "id": "xVbI0KE_UYxM"
      },
      "execution_count": 77,
      "outputs": []
    },
    {
      "cell_type": "code",
      "source": [],
      "metadata": {
        "id": "25K3IQ9aUYow"
      },
      "execution_count": 77,
      "outputs": []
    },
    {
      "cell_type": "code",
      "source": [],
      "metadata": {
        "id": "p7_FI7e-UYai"
      },
      "execution_count": 77,
      "outputs": []
    }
  ]
}